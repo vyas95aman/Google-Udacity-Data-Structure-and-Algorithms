{
 "cells": [
  {
   "cell_type": "code",
   "execution_count": null,
   "metadata": {},
   "outputs": [],
   "source": [
    "class HashTable:\n",
    "    def __init__(self):\n",
    "        self.size = 10\n",
    "        self.table = [None] * self.size\n",
    "    \n",
    "    def get_hash(self, string):\n",
    "        h = 0\n",
    "        for letter in string:\n",
    "            h += ord(letter)\n",
    "        return h % self.size\n",
    "\n",
    "    def add(self, key, value):\n",
    "        h = self.get_hash(key)\n",
    "        self.table[h] = value\n",
    "    \n",
    "    def get(self, key):\n",
    "        h = self.get_hash(key)\n",
    "        return self.table[h]\n",
    "\n",
    "t = HashTable()\n",
    "t.get_hash('march 6')"
   ]
  },
  {
   "cell_type": "code",
   "execution_count": null,
   "metadata": {},
   "outputs": [],
   "source": [
    "t = HashTable()\n",
    "t.get_hash('march 6')\n",
    "t.add('march 6', 130)"
   ]
  },
  {
   "cell_type": "code",
   "execution_count": null,
   "metadata": {},
   "outputs": [],
   "source": [
    "t.get('march 6')"
   ]
  },
  {
   "cell_type": "code",
   "execution_count": null,
   "metadata": {},
   "outputs": [],
   "source": [
    "# Using index operators/item operators\n",
    "# Allows more convienient way to add/get values from hash table, implemented a dictionary!\n",
    "\n",
    "class HashTable:\n",
    "    def __init__(self):\n",
    "        self.size = 10\n",
    "        self.table = [None] * self.size\n",
    "    \n",
    "    def get_hash(self, string):\n",
    "        h = 0\n",
    "        for letter in string:\n",
    "            h += ord(letter)\n",
    "        return h % self.size\n",
    "\n",
    "    def __setitem__(self, key, value):\n",
    "        h = self.get_hash(key)\n",
    "        self.table[h] = value\n",
    "    \n",
    "    def __getitem__(self, key):\n",
    "        h = self.get_hash(key)\n",
    "        return self.table[h]\n",
    "\n",
    "    def __delitem__(self, key):\n",
    "        h = self.get_hash(key)\n",
    "        self.table[h] = None\n"
   ]
  },
  {
   "cell_type": "code",
   "execution_count": null,
   "metadata": {},
   "outputs": [],
   "source": [
    "t = HashTable()\n",
    "t['march 9'] = 150\n",
    "t['march 9']"
   ]
  },
  {
   "cell_type": "code",
   "execution_count": null,
   "metadata": {},
   "outputs": [],
   "source": [
    "del t['march 9']\n",
    "print(t['march 9'])"
   ]
  },
  {
   "cell_type": "code",
   "execution_count": null,
   "metadata": {},
   "outputs": [],
   "source": [
    "# If same key for different values, create a linked list! Changes O(1) to O(n), bc now you have to search in linked list\n",
    "# Second approach to prevent collisions, linear probing. Search for empty slot to store key/value pair. Probing it into the table with a linear search.\n",
    "\n",
    "# Inducing a collition, both have same index\n",
    "print(t.get_hash('march 6'))\n",
    "print(t.get_hash('march 17'))"
   ]
  },
  {
   "cell_type": "code",
   "execution_count": null,
   "metadata": {},
   "outputs": [],
   "source": [
    "t = HashTable()\n",
    "t['march 6'] = 120\n",
    "t['march 8'] = 67\n",
    "t['march 9'] = 4\n",
    "t['march 17'] = 459\n"
   ]
  },
  {
   "cell_type": "code",
   "execution_count": null,
   "metadata": {},
   "outputs": [],
   "source": [
    "# This should be 120, but getting 459. This is because the same key was overwritten - collision.\n",
    "t['march 6']\n"
   ]
  },
  {
   "cell_type": "code",
   "execution_count": 1,
   "metadata": {},
   "outputs": [],
   "source": [
    "# Changing set item to prevent collision by overwriting, creating a linked list within each cell of a hash table\n",
    "\n",
    "class HashTable:\n",
    "    def __init__(self):\n",
    "        self.size = 10\n",
    "        # Changed to empty cells instead of None - initializing an empty array to now store key-value pairs.\n",
    "        self.table = [[] for i in range(self.size)]\n",
    "    \n",
    "    def get_hash(self, string):\n",
    "        h = 0\n",
    "        for letter in string:\n",
    "            h += ord(letter)\n",
    "        return h % self.size\n",
    "\n",
    "    # New set function which creates a linked list\n",
    "    def __setitem__(self, key, value):\n",
    "        h = self.get_hash(key)\n",
    "        found = False\n",
    "        # Update storing value in a linked list\n",
    "        for index, element in enumerate(self.table[h]):\n",
    "            if len(element) == 2 and element[0] == key:\n",
    "                self.table[h][index] = (key, value)\n",
    "                found=True\n",
    "                break\n",
    "        # Append linked list if key not found\n",
    "        if not found:\n",
    "            self.table[h].append((key, value))\n",
    "        \n",
    "    # New get functions that will search a linked list at the hash cell\n",
    "    def __getitem__(self, key):\n",
    "        h = self.get_hash(key)\n",
    "        for element in self.table[h]:\n",
    "            if element[0] == key:\n",
    "                return element[1]\n",
    "\n",
    "    # Have to delete items by the index, so must enumerate to get the index\n",
    "    def __delitem__(self, key):\n",
    "        h = self.get_hash(key)\n",
    "        for index, element in enumerate(self.table[h]):\n",
    "            if element[0] == key:\n",
    "                self.table[h][index] = None\n"
   ]
  },
  {
   "cell_type": "code",
   "execution_count": 2,
   "metadata": {},
   "outputs": [],
   "source": [
    "t = HashTable()\n",
    "t['march 6'] = 120\n",
    "t['march 8'] = 67\n",
    "t['march 9'] = 4\n",
    "t['march 17'] = 459"
   ]
  },
  {
   "cell_type": "code",
   "execution_count": 3,
   "metadata": {},
   "outputs": [
    {
     "data": {
      "text/plain": [
       "459"
      ]
     },
     "execution_count": 3,
     "metadata": {},
     "output_type": "execute_result"
    }
   ],
   "source": [
    "# Now we see, at this location in the hashmap we are storing a linked-list\n",
    "t['march 17']"
   ]
  },
  {
   "cell_type": "code",
   "execution_count": 4,
   "metadata": {},
   "outputs": [
    {
     "data": {
      "text/plain": [
       "[[],\n",
       " [('march 8', 67)],\n",
       " [('march 9', 4)],\n",
       " [],\n",
       " [],\n",
       " [],\n",
       " [],\n",
       " [],\n",
       " [],\n",
       " [('march 6', 120), ('march 17', 459)]]"
      ]
     },
     "execution_count": 4,
     "metadata": {},
     "output_type": "execute_result"
    }
   ],
   "source": [
    "t.table"
   ]
  },
  {
   "cell_type": "code",
   "execution_count": 5,
   "metadata": {},
   "outputs": [
    {
     "data": {
      "text/plain": [
       "[[],\n",
       " [('march 8', 67)],\n",
       " [('march 9', 4)],\n",
       " [],\n",
       " [],\n",
       " [],\n",
       " [],\n",
       " [],\n",
       " [],\n",
       " [None, ('march 17', 459)]]"
      ]
     },
     "execution_count": 5,
     "metadata": {},
     "output_type": "execute_result"
    }
   ],
   "source": [
    "del t['march 6']\n",
    "t.table"
   ]
  }
 ],
 "metadata": {
  "kernelspec": {
   "display_name": "Python 3.10.6 64-bit",
   "language": "python",
   "name": "python3"
  },
  "language_info": {
   "codemirror_mode": {
    "name": "ipython",
    "version": 3
   },
   "file_extension": ".py",
   "mimetype": "text/x-python",
   "name": "python",
   "nbconvert_exporter": "python",
   "pygments_lexer": "ipython3",
   "version": "3.10.4"
  },
  "orig_nbformat": 4,
  "vscode": {
   "interpreter": {
    "hash": "949777d72b0d2535278d3dc13498b2535136f6dfe0678499012e853ee9abcab1"
   }
  }
 },
 "nbformat": 4,
 "nbformat_minor": 2
}
